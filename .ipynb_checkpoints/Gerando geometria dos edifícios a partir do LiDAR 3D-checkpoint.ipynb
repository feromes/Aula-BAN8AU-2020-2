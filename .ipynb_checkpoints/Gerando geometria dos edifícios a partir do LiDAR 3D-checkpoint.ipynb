{
 "cells": [
  {
   "cell_type": "code",
   "execution_count": null,
   "metadata": {},
   "outputs": [],
   "source": []
  },
  {
   "cell_type": "code",
   "execution_count": 34,
   "metadata": {},
   "outputs": [],
   "source": [
    "%load_ext autotime"
   ]
  },
  {
   "cell_type": "code",
   "execution_count": 35,
   "metadata": {},
   "outputs": [
    {
     "name": "stdout",
     "output_type": "stream",
     "text": [
      "time: 832 µs\n"
     ]
    }
   ],
   "source": [
    "import pdal\n",
    "import json\n",
    "import numpy as np"
   ]
  },
  {
   "cell_type": "code",
   "execution_count": 36,
   "metadata": {},
   "outputs": [
    {
     "name": "stdout",
     "output_type": "stream",
     "text": [
      "time: 672 µs\n"
     ]
    }
   ],
   "source": [
    "import geopandas as gpd\n",
    "import pandas as pd"
   ]
  },
  {
   "cell_type": "code",
   "execution_count": 37,
   "metadata": {},
   "outputs": [
    {
     "name": "stdout",
     "output_type": "stream",
     "text": [
      "CPU times: user 8.8 s, sys: 72.1 ms, total: 8.87 s\n",
      "Wall time: 8.84 s\n",
      "Pipeline selected 4925239 points\n",
      "time: 8.95 s\n"
     ]
    }
   ],
   "source": [
    "ept = [\n",
    "    {\n",
    "      \"type\": \"readers.las\",\n",
    "      \"filename\": \"resultados/Área de Intervenção - PUPSP.laz\",\n",
    "    },\n",
    "    {\n",
    "      \"type\":\"filters.range\",\n",
    "      \"limits\":\"Classification[6:6]\"\n",
    "    }\n",
    "]\n",
    "\n",
    "pipeline = pdal.Pipeline(json.dumps(ept))\n",
    "pipeline.validate()\n",
    "%time n_points = pipeline.execute()\n",
    "print(f'Pipeline selected {n_points} points')"
   ]
  },
  {
   "cell_type": "code",
   "execution_count": 38,
   "metadata": {},
   "outputs": [
    {
     "data": {
      "text/html": [
       "<div>\n",
       "<style scoped>\n",
       "    .dataframe tbody tr th:only-of-type {\n",
       "        vertical-align: middle;\n",
       "    }\n",
       "\n",
       "    .dataframe tbody tr th {\n",
       "        vertical-align: top;\n",
       "    }\n",
       "\n",
       "    .dataframe thead th {\n",
       "        text-align: right;\n",
       "    }\n",
       "</style>\n",
       "<table border=\"1\" class=\"dataframe\">\n",
       "  <thead>\n",
       "    <tr style=\"text-align: right;\">\n",
       "      <th></th>\n",
       "      <th>X</th>\n",
       "      <th>Y</th>\n",
       "      <th>Z</th>\n",
       "      <th>Intensity</th>\n",
       "      <th>ReturnNumber</th>\n",
       "      <th>NumberOfReturns</th>\n",
       "      <th>ScanDirectionFlag</th>\n",
       "      <th>EdgeOfFlightLine</th>\n",
       "      <th>Classification</th>\n",
       "      <th>ScanAngleRank</th>\n",
       "      <th>UserData</th>\n",
       "      <th>PointSourceId</th>\n",
       "      <th>GpsTime</th>\n",
       "      <th>Red</th>\n",
       "      <th>Green</th>\n",
       "      <th>Blue</th>\n",
       "    </tr>\n",
       "  </thead>\n",
       "  <tbody>\n",
       "    <tr>\n",
       "      <th>0</th>\n",
       "      <td>333721.34</td>\n",
       "      <td>7391165.30</td>\n",
       "      <td>805.42</td>\n",
       "      <td>17</td>\n",
       "      <td>1</td>\n",
       "      <td>2</td>\n",
       "      <td>1</td>\n",
       "      <td>0</td>\n",
       "      <td>6</td>\n",
       "      <td>-7.0</td>\n",
       "      <td>48</td>\n",
       "      <td>31</td>\n",
       "      <td>1.763100e+08</td>\n",
       "      <td>62720</td>\n",
       "      <td>62976</td>\n",
       "      <td>62720</td>\n",
       "    </tr>\n",
       "    <tr>\n",
       "      <th>1</th>\n",
       "      <td>333721.24</td>\n",
       "      <td>7390902.37</td>\n",
       "      <td>837.99</td>\n",
       "      <td>4</td>\n",
       "      <td>1</td>\n",
       "      <td>2</td>\n",
       "      <td>1</td>\n",
       "      <td>0</td>\n",
       "      <td>6</td>\n",
       "      <td>3.0</td>\n",
       "      <td>76</td>\n",
       "      <td>31</td>\n",
       "      <td>1.763105e+08</td>\n",
       "      <td>25344</td>\n",
       "      <td>28928</td>\n",
       "      <td>37376</td>\n",
       "    </tr>\n",
       "    <tr>\n",
       "      <th>2</th>\n",
       "      <td>333387.29</td>\n",
       "      <td>7391234.92</td>\n",
       "      <td>843.32</td>\n",
       "      <td>3</td>\n",
       "      <td>1</td>\n",
       "      <td>2</td>\n",
       "      <td>1</td>\n",
       "      <td>0</td>\n",
       "      <td>6</td>\n",
       "      <td>4.0</td>\n",
       "      <td>76</td>\n",
       "      <td>31</td>\n",
       "      <td>1.763106e+08</td>\n",
       "      <td>34304</td>\n",
       "      <td>36608</td>\n",
       "      <td>38912</td>\n",
       "    </tr>\n",
       "    <tr>\n",
       "      <th>3</th>\n",
       "      <td>333474.37</td>\n",
       "      <td>7390914.60</td>\n",
       "      <td>864.08</td>\n",
       "      <td>44</td>\n",
       "      <td>1</td>\n",
       "      <td>2</td>\n",
       "      <td>0</td>\n",
       "      <td>0</td>\n",
       "      <td>6</td>\n",
       "      <td>-6.0</td>\n",
       "      <td>65</td>\n",
       "      <td>31</td>\n",
       "      <td>1.763106e+08</td>\n",
       "      <td>54272</td>\n",
       "      <td>55040</td>\n",
       "      <td>55040</td>\n",
       "    </tr>\n",
       "    <tr>\n",
       "      <th>4</th>\n",
       "      <td>333707.11</td>\n",
       "      <td>7390605.22</td>\n",
       "      <td>838.61</td>\n",
       "      <td>6</td>\n",
       "      <td>1</td>\n",
       "      <td>1</td>\n",
       "      <td>0</td>\n",
       "      <td>0</td>\n",
       "      <td>6</td>\n",
       "      <td>-4.0</td>\n",
       "      <td>60</td>\n",
       "      <td>31</td>\n",
       "      <td>1.763107e+08</td>\n",
       "      <td>30976</td>\n",
       "      <td>37120</td>\n",
       "      <td>42752</td>\n",
       "    </tr>\n",
       "  </tbody>\n",
       "</table>\n",
       "</div>"
      ],
      "text/plain": [
       "           X           Y       Z  Intensity  ReturnNumber  NumberOfReturns  \\\n",
       "0  333721.34  7391165.30  805.42         17             1                2   \n",
       "1  333721.24  7390902.37  837.99          4             1                2   \n",
       "2  333387.29  7391234.92  843.32          3             1                2   \n",
       "3  333474.37  7390914.60  864.08         44             1                2   \n",
       "4  333707.11  7390605.22  838.61          6             1                1   \n",
       "\n",
       "   ScanDirectionFlag  EdgeOfFlightLine  Classification  ScanAngleRank  \\\n",
       "0                  1                 0               6           -7.0   \n",
       "1                  1                 0               6            3.0   \n",
       "2                  1                 0               6            4.0   \n",
       "3                  0                 0               6           -6.0   \n",
       "4                  0                 0               6           -4.0   \n",
       "\n",
       "   UserData  PointSourceId       GpsTime    Red  Green   Blue  \n",
       "0        48             31  1.763100e+08  62720  62976  62720  \n",
       "1        76             31  1.763105e+08  25344  28928  37376  \n",
       "2        76             31  1.763106e+08  34304  36608  38912  \n",
       "3        65             31  1.763106e+08  54272  55040  55040  \n",
       "4        60             31  1.763107e+08  30976  37120  42752  "
      ]
     },
     "execution_count": 38,
     "metadata": {},
     "output_type": "execute_result"
    },
    {
     "name": "stdout",
     "output_type": "stream",
     "text": [
      "time: 1.98 s\n"
     ]
    }
   ],
   "source": [
    "arr = pipeline.arrays[0]\n",
    "df = pd.DataFrame(arr)\n",
    "# print(df.head().to_latex(index=False))\n",
    "df.head()"
   ]
  },
  {
   "cell_type": "code",
   "execution_count": 39,
   "metadata": {},
   "outputs": [
    {
     "data": {
      "text/plain": [
       "4925239"
      ]
     },
     "execution_count": 39,
     "metadata": {},
     "output_type": "execute_result"
    },
    {
     "name": "stdout",
     "output_type": "stream",
     "text": [
      "time: 1.88 ms\n"
     ]
    }
   ],
   "source": [
    "len(df)"
   ]
  },
  {
   "cell_type": "code",
   "execution_count": 41,
   "metadata": {},
   "outputs": [
    {
     "name": "stdout",
     "output_type": "stream",
     "text": [
      "time: 512 µs\n"
     ]
    }
   ],
   "source": [
    "## Separando apenas Buildings\n",
    "# df = df[df.Classification.isin([6])].reset_index()"
   ]
  },
  {
   "cell_type": "code",
   "execution_count": 42,
   "metadata": {},
   "outputs": [
    {
     "name": "stdout",
     "output_type": "stream",
     "text": [
      "time: 301 ms\n"
     ]
    }
   ],
   "source": [
    "# Reduzindo valores a mínimos para poderem ser visualizados\n",
    "coord_minimas = df[['X', 'Y', 'Z']].min()\n",
    "df[['X', 'Y', 'Z']] = df[['X', 'Y', 'Z']] - coord_minimas"
   ]
  },
  {
   "cell_type": "code",
   "execution_count": 43,
   "metadata": {},
   "outputs": [
    {
     "name": "stdout",
     "output_type": "stream",
     "text": [
      "time: 508 µs\n"
     ]
    }
   ],
   "source": [
    "CELL = 0.4"
   ]
  },
  {
   "cell_type": "code",
   "execution_count": 44,
   "metadata": {},
   "outputs": [
    {
     "name": "stdout",
     "output_type": "stream",
     "text": [
      "time: 92.4 ms\n"
     ]
    }
   ],
   "source": [
    "df.X, df.Y = round(round((1/CELL) * df.X) * CELL, 1), round(round((1/CELL) * df.Y) * CELL, 1)"
   ]
  },
  {
   "cell_type": "code",
   "execution_count": 45,
   "metadata": {},
   "outputs": [
    {
     "name": "stdout",
     "output_type": "stream",
     "text": [
      "time: 780 ms\n"
     ]
    }
   ],
   "source": [
    "z_max = df[['X', 'Y', 'Z', 'UserData']].groupby(['X', 'Y']).max()"
   ]
  },
  {
   "cell_type": "code",
   "execution_count": 46,
   "metadata": {},
   "outputs": [
    {
     "name": "stdout",
     "output_type": "stream",
     "text": [
      "time: 6.77 s\n"
     ]
    }
   ],
   "source": [
    "df.set_index(['X', 'Y']).Z = z_max"
   ]
  },
  {
   "cell_type": "code",
   "execution_count": 47,
   "metadata": {},
   "outputs": [
    {
     "name": "stdout",
     "output_type": "stream",
     "text": [
      "time: 13.1 ms\n"
     ]
    }
   ],
   "source": [
    "bd_voxel = pd.DataFrame(z_max, columns=['Z', 'UserData']).reset_index()"
   ]
  },
  {
   "cell_type": "code",
   "execution_count": null,
   "metadata": {},
   "outputs": [],
   "source": []
  },
  {
   "cell_type": "code",
   "execution_count": null,
   "metadata": {},
   "outputs": [],
   "source": []
  },
  {
   "cell_type": "code",
   "execution_count": 48,
   "metadata": {},
   "outputs": [
    {
     "name": "stdout",
     "output_type": "stream",
     "text": [
      "time: 432 µs\n"
     ]
    }
   ],
   "source": [
    "from sklearn.cluster import DBSCAN #, OPTICS\n",
    "from sklearn import preprocessing"
   ]
  },
  {
   "cell_type": "code",
   "execution_count": 49,
   "metadata": {},
   "outputs": [
    {
     "name": "stdout",
     "output_type": "stream",
     "text": [
      "time: 16.4 ms\n"
     ]
    }
   ],
   "source": [
    "X = bd_voxel[['X', 'Y', 'Z']]"
   ]
  },
  {
   "cell_type": "code",
   "execution_count": 50,
   "metadata": {},
   "outputs": [
    {
     "name": "stdout",
     "output_type": "stream",
     "text": [
      "time: 1.45 ms\n"
     ]
    }
   ],
   "source": [
    "EPS = 1.5\n",
    "MIN_SAMPLES = 6"
   ]
  },
  {
   "cell_type": "code",
   "execution_count": 51,
   "metadata": {},
   "outputs": [
    {
     "name": "stdout",
     "output_type": "stream",
     "text": [
      "time: 30.9 s\n"
     ]
    }
   ],
   "source": [
    "clustering = DBSCAN(eps=EPS, min_samples=MIN_SAMPLES).fit(X)"
   ]
  },
  {
   "cell_type": "code",
   "execution_count": 52,
   "metadata": {},
   "outputs": [
    {
     "data": {
      "text/plain": [
       "array([  -1,    0,    1, ..., 2241, 2242, 2243])"
      ]
     },
     "execution_count": 52,
     "metadata": {},
     "output_type": "execute_result"
    },
    {
     "name": "stdout",
     "output_type": "stream",
     "text": [
      "time: 31.6 ms\n"
     ]
    }
   ],
   "source": [
    "np.unique(clustering.labels_)"
   ]
  },
  {
   "cell_type": "code",
   "execution_count": 53,
   "metadata": {},
   "outputs": [
    {
     "name": "stdout",
     "output_type": "stream",
     "text": [
      "time: 3.14 ms\n"
     ]
    }
   ],
   "source": [
    "bd_voxel['ClusterID'] = clustering.labels_"
   ]
  },
  {
   "cell_type": "code",
   "execution_count": null,
   "metadata": {},
   "outputs": [],
   "source": []
  },
  {
   "cell_type": "code",
   "execution_count": null,
   "metadata": {},
   "outputs": [],
   "source": []
  },
  {
   "cell_type": "code",
   "execution_count": null,
   "metadata": {},
   "outputs": [],
   "source": []
  },
  {
   "cell_type": "code",
   "execution_count": 54,
   "metadata": {},
   "outputs": [
    {
     "name": "stdout",
     "output_type": "stream",
     "text": [
      "time: 639 µs\n"
     ]
    }
   ],
   "source": [
    "import shapely.geometry as geometry\n",
    "from scipy.spatial import Delaunay"
   ]
  },
  {
   "cell_type": "code",
   "execution_count": 66,
   "metadata": {},
   "outputs": [
    {
     "name": "stdout",
     "output_type": "stream",
     "text": [
      "time: 5.43 ms\n"
     ]
    }
   ],
   "source": [
    "from shapely.ops import cascaded_union, polygonize\n",
    "from scipy.spatial import Delaunay\n",
    "import numpy as np\n",
    "import math\n",
    "\n",
    "def alpha_shape(points, alpha):\n",
    "    \"\"\"\n",
    "    Compute the alpha shape (concave hull) of a set\n",
    "    of points.\n",
    "    @param points: Iterable container of points.\n",
    "    @param alpha: alpha value to influence the\n",
    "        gooeyness of the border. Smaller numbers\n",
    "        don't fall inward as much as larger numbers.\n",
    "        Too large, and you lose everything!\n",
    "    \"\"\"\n",
    "    if len(points) < 4:\n",
    "        # When you have a triangle, there is no sense\n",
    "        # in computing an alpha shape.\n",
    "        return geometry.MultiPoint(list(points)).convex_hull\n",
    "\n",
    "    coords = np.array([point.coords[0] for point in points])\n",
    "    try:\n",
    "        tri = Delaunay(coords)\n",
    "        triangles = coords[tri.vertices]\n",
    "        a = ((triangles[:,0,0] - triangles[:,1,0]) ** 2 + (triangles[:,0,1] - triangles[:,1,1]) ** 2) ** 0.5\n",
    "        b = ((triangles[:,1,0] - triangles[:,2,0]) ** 2 + (triangles[:,1,1] - triangles[:,2,1]) ** 2) ** 0.5\n",
    "        c = ((triangles[:,2,0] - triangles[:,0,0]) ** 2 + (triangles[:,2,1] - triangles[:,0,1]) ** 2) ** 0.5\n",
    "        s = ( a + b + c ) / 2.0\n",
    "        areas = (s*(s-a)*(s-b)*(s-c)) ** 0.5\n",
    "        circums = a * b * c / (4.0 * areas)\n",
    "        filtered = triangles[circums < (1.0 / alpha)]\n",
    "        edge1 = filtered[:,(0,1)]\n",
    "        edge2 = filtered[:,(1,2)]\n",
    "        edge3 = filtered[:,(2,0)]\n",
    "        edge_points = np.unique(np.concatenate((edge1,edge2,edge3)), axis = 0).tolist()\n",
    "        m = geometry.MultiLineString(edge_points)\n",
    "        triangles = list(polygonize(m))\n",
    "    #     return cascaded_union(triangles[0])\n",
    "        return cascaded_union(list(filter(lambda x: x.buffer(-0.20).intersection(points).type == 'MultiPoint', triangles)))\n",
    "    except:\n",
    "        print(coords)\n",
    "        return None"
   ]
  },
  {
   "cell_type": "code",
   "execution_count": 62,
   "metadata": {},
   "outputs": [
    {
     "name": "stdout",
     "output_type": "stream",
     "text": [
      "time: 631 µs\n"
     ]
    }
   ],
   "source": [
    "ALPHA = 0.4\n",
    "TOLERANCE = 0.40"
   ]
  },
  {
   "cell_type": "code",
   "execution_count": null,
   "metadata": {},
   "outputs": [],
   "source": []
  },
  {
   "cell_type": "code",
   "execution_count": 63,
   "metadata": {},
   "outputs": [
    {
     "data": {
      "text/html": [
       "<div>\n",
       "<style scoped>\n",
       "    .dataframe tbody tr th:only-of-type {\n",
       "        vertical-align: middle;\n",
       "    }\n",
       "\n",
       "    .dataframe tbody tr th {\n",
       "        vertical-align: top;\n",
       "    }\n",
       "\n",
       "    .dataframe thead th {\n",
       "        text-align: right;\n",
       "    }\n",
       "</style>\n",
       "<table border=\"1\" class=\"dataframe\">\n",
       "  <thead>\n",
       "    <tr style=\"text-align: right;\">\n",
       "      <th></th>\n",
       "      <th>X</th>\n",
       "      <th>Y</th>\n",
       "      <th>Z</th>\n",
       "      <th>UserData</th>\n",
       "      <th>ClusterID</th>\n",
       "    </tr>\n",
       "  </thead>\n",
       "  <tbody>\n",
       "    <tr>\n",
       "      <th>0</th>\n",
       "      <td>0.0</td>\n",
       "      <td>578.4</td>\n",
       "      <td>76.19</td>\n",
       "      <td>3</td>\n",
       "      <td>0</td>\n",
       "    </tr>\n",
       "    <tr>\n",
       "      <th>1</th>\n",
       "      <td>0.4</td>\n",
       "      <td>577.6</td>\n",
       "      <td>76.20</td>\n",
       "      <td>3</td>\n",
       "      <td>0</td>\n",
       "    </tr>\n",
       "    <tr>\n",
       "      <th>2</th>\n",
       "      <td>0.4</td>\n",
       "      <td>578.0</td>\n",
       "      <td>76.13</td>\n",
       "      <td>3</td>\n",
       "      <td>0</td>\n",
       "    </tr>\n",
       "    <tr>\n",
       "      <th>3</th>\n",
       "      <td>0.8</td>\n",
       "      <td>576.8</td>\n",
       "      <td>76.17</td>\n",
       "      <td>3</td>\n",
       "      <td>0</td>\n",
       "    </tr>\n",
       "    <tr>\n",
       "      <th>4</th>\n",
       "      <td>0.8</td>\n",
       "      <td>577.2</td>\n",
       "      <td>76.03</td>\n",
       "      <td>3</td>\n",
       "      <td>0</td>\n",
       "    </tr>\n",
       "    <tr>\n",
       "      <th>...</th>\n",
       "      <td>...</td>\n",
       "      <td>...</td>\n",
       "      <td>...</td>\n",
       "      <td>...</td>\n",
       "      <td>...</td>\n",
       "    </tr>\n",
       "    <tr>\n",
       "      <th>1597134</th>\n",
       "      <td>1016.8</td>\n",
       "      <td>272.4</td>\n",
       "      <td>57.19</td>\n",
       "      <td>8</td>\n",
       "      <td>-1</td>\n",
       "    </tr>\n",
       "    <tr>\n",
       "      <th>1597135</th>\n",
       "      <td>1016.8</td>\n",
       "      <td>272.8</td>\n",
       "      <td>53.67</td>\n",
       "      <td>5</td>\n",
       "      <td>-1</td>\n",
       "    </tr>\n",
       "    <tr>\n",
       "      <th>1597136</th>\n",
       "      <td>1016.8</td>\n",
       "      <td>273.6</td>\n",
       "      <td>56.84</td>\n",
       "      <td>8</td>\n",
       "      <td>-1</td>\n",
       "    </tr>\n",
       "    <tr>\n",
       "      <th>1597137</th>\n",
       "      <td>1016.8</td>\n",
       "      <td>274.0</td>\n",
       "      <td>59.54</td>\n",
       "      <td>11</td>\n",
       "      <td>2096</td>\n",
       "    </tr>\n",
       "    <tr>\n",
       "      <th>1597138</th>\n",
       "      <td>1017.2</td>\n",
       "      <td>284.0</td>\n",
       "      <td>58.93</td>\n",
       "      <td>10</td>\n",
       "      <td>-1</td>\n",
       "    </tr>\n",
       "  </tbody>\n",
       "</table>\n",
       "<p>1597139 rows × 5 columns</p>\n",
       "</div>"
      ],
      "text/plain": [
       "              X      Y      Z  UserData  ClusterID\n",
       "0           0.0  578.4  76.19         3          0\n",
       "1           0.4  577.6  76.20         3          0\n",
       "2           0.4  578.0  76.13         3          0\n",
       "3           0.8  576.8  76.17         3          0\n",
       "4           0.8  577.2  76.03         3          0\n",
       "...         ...    ...    ...       ...        ...\n",
       "1597134  1016.8  272.4  57.19         8         -1\n",
       "1597135  1016.8  272.8  53.67         5         -1\n",
       "1597136  1016.8  273.6  56.84         8         -1\n",
       "1597137  1016.8  274.0  59.54        11       2096\n",
       "1597138  1017.2  284.0  58.93        10         -1\n",
       "\n",
       "[1597139 rows x 5 columns]"
      ]
     },
     "execution_count": 63,
     "metadata": {},
     "output_type": "execute_result"
    },
    {
     "name": "stdout",
     "output_type": "stream",
     "text": [
      "time: 11.6 ms\n"
     ]
    }
   ],
   "source": [
    "bd_voxel"
   ]
  },
  {
   "cell_type": "code",
   "execution_count": 64,
   "metadata": {},
   "outputs": [
    {
     "name": "stdout",
     "output_type": "stream",
     "text": [
      "time: 9.26 ms\n"
     ]
    }
   ],
   "source": [
    "resultados = gpd.GeoDataFrame(columns=['ClusterID', 'Altura'])"
   ]
  },
  {
   "cell_type": "code",
   "execution_count": 68,
   "metadata": {},
   "outputs": [
    {
     "name": "stderr",
     "output_type": "stream",
     "text": [
      "/home/fernando/miniconda3/envs/pcp-env/lib/python3.7/site-packages/ipykernel_launcher.py:30: RuntimeWarning: divide by zero encountered in true_divide\n",
      "/home/fernando/miniconda3/envs/pcp-env/lib/python3.7/site-packages/ipykernel_launcher.py:29: RuntimeWarning: invalid value encountered in sqrt\n",
      "/home/fernando/miniconda3/envs/pcp-env/lib/python3.7/site-packages/ipykernel_launcher.py:31: RuntimeWarning: invalid value encountered in less\n"
     ]
    },
    {
     "name": "stdout",
     "output_type": "stream",
     "text": [
      "[[864.  245.2]\n",
      " [864.  246. ]\n",
      " [864.  246.4]\n",
      " [864.  246.8]\n",
      " [864.  247.2]\n",
      " [864.  247.6]\n",
      " [864.  248. ]\n",
      " [864.  248.8]]\n"
     ]
    },
    {
     "ename": "AttributeError",
     "evalue": "'NoneType' object has no attribute 'simplify'",
     "output_type": "error",
     "traceback": [
      "\u001b[0;31m---------------------------------------------------------------------------\u001b[0m",
      "\u001b[0;31mAttributeError\u001b[0m                            Traceback (most recent call last)",
      "\u001b[0;32m<ipython-input-68-c0f1844245b2>\u001b[0m in \u001b[0;36m<module>\u001b[0;34m\u001b[0m\n\u001b[1;32m      9\u001b[0m \u001b[0;31m#             poligono.append(poli.simplify(TOLERANCE))\u001b[0m\u001b[0;34m\u001b[0m\u001b[0;34m\u001b[0m\u001b[0;34m\u001b[0m\u001b[0m\n\u001b[1;32m     10\u001b[0m \u001b[0;31m#             display(poli.simplify(TOLERANCE))\u001b[0m\u001b[0;34m\u001b[0m\u001b[0;34m\u001b[0m\u001b[0;34m\u001b[0m\u001b[0m\n\u001b[0;32m---> 11\u001b[0;31m             \u001b[0mpoli\u001b[0m \u001b[0;34m=\u001b[0m \u001b[0maffinity\u001b[0m\u001b[0;34m.\u001b[0m\u001b[0mtranslate\u001b[0m\u001b[0;34m(\u001b[0m\u001b[0mpoli\u001b[0m\u001b[0;34m.\u001b[0m\u001b[0msimplify\u001b[0m\u001b[0;34m(\u001b[0m\u001b[0mTOLERANCE\u001b[0m\u001b[0;34m)\u001b[0m\u001b[0;34m,\u001b[0m \u001b[0mxoff\u001b[0m\u001b[0;34m=\u001b[0m\u001b[0mcoord_minimas\u001b[0m\u001b[0;34m.\u001b[0m\u001b[0mX\u001b[0m\u001b[0;34m,\u001b[0m \u001b[0myoff\u001b[0m\u001b[0;34m=\u001b[0m\u001b[0mcoord_minimas\u001b[0m\u001b[0;34m.\u001b[0m\u001b[0mY\u001b[0m\u001b[0;34m,\u001b[0m \u001b[0mzoff\u001b[0m\u001b[0;34m=\u001b[0m\u001b[0;36m0.0\u001b[0m\u001b[0;34m)\u001b[0m\u001b[0;34m\u001b[0m\u001b[0;34m\u001b[0m\u001b[0m\n\u001b[0m\u001b[1;32m     12\u001b[0m \u001b[0;31m#             print(poli)\u001b[0m\u001b[0;34m\u001b[0m\u001b[0;34m\u001b[0m\u001b[0;34m\u001b[0m\u001b[0m\n\u001b[1;32m     13\u001b[0m             \u001b[0;32mif\u001b[0m \u001b[0mpoli\u001b[0m \u001b[0;32mis\u001b[0m \u001b[0;32mnot\u001b[0m \u001b[0;32mNone\u001b[0m\u001b[0;34m:\u001b[0m\u001b[0;34m\u001b[0m\u001b[0;34m\u001b[0m\u001b[0m\n",
      "\u001b[0;31mAttributeError\u001b[0m: 'NoneType' object has no attribute 'simplify'"
     ]
    },
    {
     "name": "stdout",
     "output_type": "stream",
     "text": [
      "time: 3min 41s\n"
     ]
    }
   ],
   "source": [
    "# poligono = []\n",
    "from shapely import affinity\n",
    "\n",
    "for i in bd_voxel.ClusterID.unique():\n",
    "    if i >= 0:\n",
    "        points = bd_voxel[bd_voxel.ClusterID == i][['X', 'Y']].to_numpy()\n",
    "        if len(points) > 7:\n",
    "            poli = alpha_shape(geometry.MultiPoint(points), ALPHA)\n",
    "            if poli is not None:\n",
    "                poli = affinity.translate(poli.simplify(TOLERANCE), xoff=coord_minimas.X, yoff=coord_minimas.Y, zoff=0.0)\n",
    "                resultados = resultados.append({'ClusterID':i, \n",
    "                                            'Altura':bd_voxel[bd_voxel.ClusterID == i]['UserData'].max(), \n",
    "                                            'geometry':poli}, ignore_index=True)"
   ]
  },
  {
   "cell_type": "code",
   "execution_count": null,
   "metadata": {},
   "outputs": [],
   "source": [
    "resultados.to_file(\"resultados/edificacoes_restituidas_LiDAR_3D.gpkg\", driver='GPKG')"
   ]
  },
  {
   "cell_type": "code",
   "execution_count": null,
   "metadata": {},
   "outputs": [],
   "source": []
  }
 ],
 "metadata": {
  "kernelspec": {
   "display_name": "Python 3",
   "language": "python",
   "name": "python3"
  },
  "language_info": {
   "codemirror_mode": {
    "name": "ipython",
    "version": 3
   },
   "file_extension": ".py",
   "mimetype": "text/x-python",
   "name": "python",
   "nbconvert_exporter": "python",
   "pygments_lexer": "ipython3",
   "version": "3.7.6"
  }
 },
 "nbformat": 4,
 "nbformat_minor": 4
}
