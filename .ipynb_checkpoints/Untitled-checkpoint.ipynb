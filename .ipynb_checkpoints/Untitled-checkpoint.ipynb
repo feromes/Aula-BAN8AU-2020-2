{
 "cells": [
  {
   "cell_type": "code",
   "execution_count": 2,
   "metadata": {},
   "outputs": [],
   "source": [
    "import pdal\n",
    "import json\n",
    "import numpy as np"
   ]
  },
  {
   "cell_type": "code",
   "execution_count": 3,
   "metadata": {},
   "outputs": [],
   "source": [
    "import geopandas as gpd\n",
    "import pandas as pd"
   ]
  },
  {
   "cell_type": "code",
   "execution_count": 4,
   "metadata": {},
   "outputs": [],
   "source": [
    "areas = gpd.read_file(\"./gis/area-de-analise-BN8AU-2.geojson\")"
   ]
  },
  {
   "cell_type": "code",
   "execution_count": 5,
   "metadata": {},
   "outputs": [],
   "source": [
    "areas['area'] = areas.area"
   ]
  },
  {
   "cell_type": "code",
   "execution_count": 6,
   "metadata": {},
   "outputs": [
    {
     "data": {
      "text/html": [
       "<div>\n",
       "<style scoped>\n",
       "    .dataframe tbody tr th:only-of-type {\n",
       "        vertical-align: middle;\n",
       "    }\n",
       "\n",
       "    .dataframe tbody tr th {\n",
       "        vertical-align: top;\n",
       "    }\n",
       "\n",
       "    .dataframe thead th {\n",
       "        text-align: right;\n",
       "    }\n",
       "</style>\n",
       "<table border=\"1\" class=\"dataframe\">\n",
       "  <thead>\n",
       "    <tr style=\"text-align: right;\">\n",
       "      <th></th>\n",
       "      <th>Name</th>\n",
       "      <th>description</th>\n",
       "      <th>timestamp</th>\n",
       "      <th>begin</th>\n",
       "      <th>end</th>\n",
       "      <th>geometry</th>\n",
       "      <th>area</th>\n",
       "    </tr>\n",
       "  </thead>\n",
       "  <tbody>\n",
       "    <tr>\n",
       "      <th>0</th>\n",
       "      <td>Terreno - Projeto</td>\n",
       "      <td>None</td>\n",
       "      <td>None</td>\n",
       "      <td>None</td>\n",
       "      <td>None</td>\n",
       "      <td>POLYGON Z ((333264.881 7391451.155 0.000, 3333...</td>\n",
       "      <td>1.981811e+04</td>\n",
       "    </tr>\n",
       "    <tr>\n",
       "      <th>1</th>\n",
       "      <td>Área de Intervenção - Projeto e PUPSP</td>\n",
       "      <td>None</td>\n",
       "      <td>None</td>\n",
       "      <td>None</td>\n",
       "      <td>None</td>\n",
       "      <td>POLYGON Z ((333140.172 7391206.126 0.000, 3332...</td>\n",
       "      <td>1.309563e+05</td>\n",
       "    </tr>\n",
       "    <tr>\n",
       "      <th>2</th>\n",
       "      <td>Área de Intervenção - PUPSP</td>\n",
       "      <td>None</td>\n",
       "      <td>None</td>\n",
       "      <td>None</td>\n",
       "      <td>None</td>\n",
       "      <td>POLYGON Z ((333347.106 7391333.800 0.000, 3328...</td>\n",
       "      <td>5.738222e+05</td>\n",
       "    </tr>\n",
       "    <tr>\n",
       "      <th>3</th>\n",
       "      <td>Área de Análise - PUPSP</td>\n",
       "      <td>None</td>\n",
       "      <td>None</td>\n",
       "      <td>None</td>\n",
       "      <td>None</td>\n",
       "      <td>POLYGON Z ((332759.204 7391145.524 0.000, 3329...</td>\n",
       "      <td>1.869758e+06</td>\n",
       "    </tr>\n",
       "  </tbody>\n",
       "</table>\n",
       "</div>"
      ],
      "text/plain": [
       "                                    Name description timestamp begin   end  \\\n",
       "0                      Terreno - Projeto        None      None  None  None   \n",
       "1  Área de Intervenção - Projeto e PUPSP        None      None  None  None   \n",
       "2            Área de Intervenção - PUPSP        None      None  None  None   \n",
       "3                Área de Análise - PUPSP        None      None  None  None   \n",
       "\n",
       "                                            geometry          area  \n",
       "0  POLYGON Z ((333264.881 7391451.155 0.000, 3333...  1.981811e+04  \n",
       "1  POLYGON Z ((333140.172 7391206.126 0.000, 3332...  1.309563e+05  \n",
       "2  POLYGON Z ((333347.106 7391333.800 0.000, 3328...  5.738222e+05  \n",
       "3  POLYGON Z ((332759.204 7391145.524 0.000, 3329...  1.869758e+06  "
      ]
     },
     "execution_count": 6,
     "metadata": {},
     "output_type": "execute_result"
    }
   ],
   "source": [
    "areas"
   ]
  },
  {
   "cell_type": "code",
   "execution_count": 7,
   "metadata": {},
   "outputs": [],
   "source": [
    "AREA = 3\n",
    "s = areas.iloc[AREA].geometry\n",
    "bounds = ([s.bounds[0], s.bounds[2]], [s.bounds[1], s.bounds[3]])"
   ]
  },
  {
   "cell_type": "code",
   "execution_count": null,
   "metadata": {},
   "outputs": [],
   "source": [
    "ept = [\n",
    "    {\n",
    "      \"type\": \"readers.ept\",\n",
    "      \"filename\": \"https://ept-m3dc-pmsp.s3-sa-east-1.amazonaws.com/ept.json\",\n",
    "      \"bounds\": str(bounds),\n",
    "      # Resolução de 1 metro apenas para a Área de Análise\n",
    "      \"resolution\": 10,\n",
    "      \"threads\":6\n",
    "    },\n",
    "#     {\n",
    "#         \"type\":\"filters.voxelcentroidnearestneighbor\",\n",
    "#         \"cell\":0.5\n",
    "#     },\n",
    "    {\n",
    "        \"type\":\"filters.crop\",\n",
    "        \"polygon\":s.wkt\n",
    "    },\n",
    "#     {   \n",
    "#         \"type\":\"filters.hag_delaunay\"\n",
    "#     },\n",
    "    {\n",
    "        \"type\":\"writers.las\",\n",
    "        \"compression\":\"laszip\",\n",
    "        \"filename\":f\"resultados/{areas.iloc[AREA].Name}.laz\"\n",
    "    }\n",
    "]\n",
    "\n",
    "pipeline = pdal.Pipeline(json.dumps(ept))\n",
    "pipeline.validate()\n",
    "%time n_points = pipeline.execute()\n",
    "print(f'Pipeline selected {n_points} points')"
   ]
  },
  {
   "cell_type": "code",
   "execution_count": null,
   "metadata": {},
   "outputs": [],
   "source": []
  },
  {
   "cell_type": "code",
   "execution_count": null,
   "metadata": {},
   "outputs": [],
   "source": []
  },
  {
   "cell_type": "code",
   "execution_count": null,
   "metadata": {},
   "outputs": [],
   "source": []
  },
  {
   "cell_type": "code",
   "execution_count": null,
   "metadata": {},
   "outputs": [],
   "source": []
  },
  {
   "cell_type": "code",
   "execution_count": null,
   "metadata": {},
   "outputs": [],
   "source": []
  },
  {
   "cell_type": "code",
   "execution_count": 10,
   "metadata": {},
   "outputs": [
    {
     "name": "stdout",
     "output_type": "stream",
     "text": [
      "CPU times: user 1min 27s, sys: 832 ms, total: 1min 28s\n",
      "Wall time: 1min 27s\n",
      "Pipeline selected 18670440 points\n"
     ]
    }
   ],
   "source": [
    "cropper = [\n",
    "    {\n",
    "      \"type\": \"readers.las\",\n",
    "      \"filename\": \"resultados/Área de Análise - PUPSP.laz\",\n",
    "#       \"bounds\": str(bounds),\n",
    "#       \"threads\":6\n",
    "    },\n",
    "    {\n",
    "      \"type\":\"filters.assign\",\n",
    "      \"assignment\":\"Classification[:]=0\"\n",
    "    },\n",
    "#     {\n",
    "#       \"type\":\"filters.elm\"\n",
    "#     },\n",
    "#     {\n",
    "#       \"type\":\"filters.outlier\"\n",
    "#     },\n",
    "#     {\n",
    "#         \"type\": \"filters.ferry\",\n",
    "#         \"dimensions\": \"=>ReturnNumber, =>NumberOfReturns\" \n",
    "#     },\n",
    "#     {\n",
    "#         \"type\": \"filters.assign\",\n",
    "#         \"assignment\": \"NumberOfReturns[:]=1\"\n",
    "#     },\n",
    "#     {\n",
    "#         \"type\": \"filters.assign\",\n",
    "#         \"assignment\": \"ReturnNumber[:]=1\"\n",
    "#     },\n",
    "    {\n",
    "      \"type\":\"filters.smrf\",\n",
    "      \"cell\": 1,\n",
    "#       \"last\":'true',\n",
    "      \"ignore\":\"Classification[7:7]\",\n",
    "      \"slope\":0.2,\n",
    "      \"window\":16,\n",
    "      \"threshold\":0.45,\n",
    "      \"scalar\":1.2\n",
    "    },\n",
    "    {\n",
    "      \"type\":\"filters.range\",\n",
    "      \"limits\":\"Classification[2:2]\"\n",
    "    },\n",
    "#     {\n",
    "#       \"filename\":f\"resultados/MDT-{areas.iloc[AREA].Name}-1m.tif\",\n",
    "#       \"gdaldriver\":\"GTiff\",\n",
    "#       \"output_type\":\"all\",\n",
    "#       \"resolution\":\"1.0\",\n",
    "#       \"type\": \"writers.gdal\"\n",
    "#     },\n",
    "    {\n",
    "      \"filename\":f\"resultados/MDT-{areas.iloc[AREA].Name}-5m.tif\",\n",
    "      \"gdaldriver\":\"GTiff\",\n",
    "      \"output_type\":\"all\",\n",
    "      \"resolution\":\"5.0\",\n",
    "      \"output_type\": \"mean\",\n",
    "      \"type\": \"writers.gdal\"\n",
    "    },\n",
    "    {\n",
    "      \"filename\":f\"resultados/MDT-{areas.iloc[AREA].Name}-10m.tif\",\n",
    "      \"gdaldriver\":\"GTiff\",\n",
    "      \"output_type\":\"all\",\n",
    "      \"resolution\":\"10.0\",\n",
    "      \"output_type\": \"mean\",\n",
    "      \"type\": \"writers.gdal\"\n",
    "    }\n",
    "]\n",
    "\n",
    "pipeline = pdal.Pipeline(json.dumps(cropper))\n",
    "pipeline.validate()\n",
    "%time n_points = pipeline.execute()\n",
    "print(f'Pipeline selected {n_points} points')"
   ]
  },
  {
   "cell_type": "code",
   "execution_count": null,
   "metadata": {},
   "outputs": [],
   "source": []
  }
 ],
 "metadata": {
  "kernelspec": {
   "display_name": "Python 3",
   "language": "python",
   "name": "python3"
  },
  "language_info": {
   "codemirror_mode": {
    "name": "ipython",
    "version": 3
   },
   "file_extension": ".py",
   "mimetype": "text/x-python",
   "name": "python",
   "nbconvert_exporter": "python",
   "pygments_lexer": "ipython3",
   "version": "3.7.6"
  }
 },
 "nbformat": 4,
 "nbformat_minor": 4
}
