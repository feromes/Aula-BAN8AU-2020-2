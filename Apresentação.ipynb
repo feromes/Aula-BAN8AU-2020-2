{
 "cells": [
  {
   "cell_type": "markdown",
   "metadata": {
    "slideshow": {
     "slide_type": "slide"
    }
   },
   "source": [
    "# As dimensões da cidade: muito além do X, Y e Z\n",
    "\n",
    "Fernando Gomes, Agosto de 2020"
   ]
  },
  {
   "cell_type": "markdown",
   "metadata": {
    "slideshow": {
     "slide_type": "subslide"
    }
   },
   "source": [
    "## Agradecimentos\n",
    "\n",
    "* Professores são alienígenas\n",
    "* Mas não deixe se abduzir\n",
    "* Nem declare guerra\n",
    "* Tente se comunicar\n",
    "* Siga-o por alguns passos\n",
    "* Suba nos ombros deles"
   ]
  },
  {
   "cell_type": "markdown",
   "metadata": {
    "slideshow": {
     "slide_type": "subslide"
    }
   },
   "source": [
    "## Até outro dia eu estava aí\n",
    "\n",
    "* Formado em Arquitetura e Urbanismo (2019)\n",
    "* Segunda graduação\n",
    "* Melhor aluno\n",
    "* Hackatona GeoSampa\n",
    "* Convidado a trabalhar na prefeitura de São Paulo\n",
    "* Mestrando na Poli/USP"
   ]
  },
  {
   "cell_type": "markdown",
   "metadata": {
    "slideshow": {
     "slide_type": "slide"
    }
   },
   "source": [
    "## Motivação\n",
    "\n",
    "* Eu sou um alienígena \n",
    "\n",
    ">  ETIM lat. alienigĕna,ae 'de origem estranha, estrangeiro'\n",
    "\n",
    "* Preciso fazer contato, me comunicar\n",
    "* Ensinar para validar o que eu aprendi\n",
    "* Aprendi muito para preparar essa aula\n"
   ]
  },
  {
   "cell_type": "markdown",
   "metadata": {
    "slideshow": {
     "slide_type": "subslide"
    }
   },
   "source": [
    "## A evolução do dado aberto disponível\n",
    "\n",
    "* Professor Jackson (2014)\n",
    "* Altura dos edifícios da Vila Mariana\n",
    "* Orientação com Prof. Léo (2019)\n",
    "* Lotes e edificações de 2004, nada de LiDAR 3D"
   ]
  },
  {
   "cell_type": "markdown",
   "metadata": {
    "slideshow": {
     "slide_type": "subslide"
    }
   },
   "source": [
    "## Vem comigo ...\n",
    "\n",
    "* Levantamento de dados mudou (BIGDATA)\n",
    "* A importância da visão analítica de quem interage com a forma da cidade\n",
    "* Minha hipótese: Seremos menos empíricos e mais orientados a dados\n",
    "* Sem falar na \"Infodemia\", sejam curadores do prórpio consumo de informação\n",
    "\n",
    "> \"A Cauda Longa\", https://www.wired.com/2004/10/tail/"
   ]
  },
  {
   "cell_type": "markdown",
   "metadata": {
    "slideshow": {
     "slide_type": "slide"
    }
   },
   "source": [
    "# O que é 'uma' dimensão?\n",
    "\n",
    "* [0, 1, 2, 3, 4, ....]\n",
    "* [0.1, 0.2, 0.3, 0.4 ....]\n",
    "* PIB, CA, TO, IDB, Área, Gabarito, Valor por metro quadrado, taxa de desemprego, etc ...."
   ]
  },
  {
   "cell_type": "markdown",
   "metadata": {
    "slideshow": {
     "slide_type": "subslide"
    }
   },
   "source": [
    "## E quantas dimensões tem uma planta?"
   ]
  },
  {
   "cell_type": "markdown",
   "metadata": {
    "slideshow": {
     "slide_type": "fragment"
    }
   },
   "source": [
    "* X e Y (duas dimensões, 2D)\n",
    "* Com eles podemos obter distâncias entre elementos\n",
    "* E ainda é possível extrair algumas outras dimensões (1D), área, ângulos"
   ]
  },
  {
   "cell_type": "markdown",
   "metadata": {
    "slideshow": {
     "slide_type": "subslide"
    }
   },
   "source": [
    "## Mas um modelo 3D então resolve TUUUUUUUUUDO?"
   ]
  },
  {
   "cell_type": "markdown",
   "metadata": {
    "slideshow": {
     "slide_type": "fragment"
    }
   },
   "source": [
    "* Se fosse assim todos os problemas estariam resolvidos\n",
    "> Ele possibilita, assim como uma planta ou um mapa, extrair demais dimensões. Mas como nós humanos fazemos pensamos?\n",
    "\n",
    "> Com dimensões, podemos comparar, medir distâncias Euclidianas ou estatísticas, colocar em ordem fazer operações com algebra linear, representar graficamente (?), etc ..."
   ]
  },
  {
   "cell_type": "markdown",
   "metadata": {
    "slideshow": {
     "slide_type": "slide"
    }
   },
   "source": [
    "## Como nós pensamos então?\n",
    "\n",
    "> Temos vocação ou 'maldição' por reconhecer padrões, principalmente os de linguagem e que relacionam causa e consequência (Alexander, 1961)\n",
    "\n",
    "* 1, 2, 3, 4, 5, ... qual o próximo?\n",
    "* Mamão, melão, abacaxi, uva, abacate, ... qual a próxima palavra?"
   ]
  },
  {
   "cell_type": "markdown",
   "metadata": {
    "slideshow": {
     "slide_type": "subslide"
    }
   },
   "source": [
    "## Mas somos muito limitados com número ...\n",
    "\n",
    "* Helena está grávida e já tem 3 meninas, qual a chance de nascer mais uma menina?\n",
    "* Muitas linguagens primitivas tem palavras apenas para 1, 2 ou muitos\n",
    "\n",
    "> Uma estratégia é levantar o máximo possível de dimensões e então procurar padrões e similaridades\n"
   ]
  },
  {
   "cell_type": "markdown",
   "metadata": {
    "slideshow": {
     "slide_type": "subslide"
    }
   },
   "source": [
    "## Inteligência artificial\n",
    "\n",
    "* Jogo da imitação (Alan Turing)\n",
    "* Como funcionam os algorítimos\n",
    "* Buscamos padrões para economizar neurônios\n",
    "* Reconhecemos padrões\n",
    "* Padrão é diferente de repetição e mecanicismo\n",
    "\n",
    "> IMPORTANTE: Não use o coneceito de camada (layer) fazendo analogia a multidimensionalidade"
   ]
  },
  {
   "cell_type": "markdown",
   "metadata": {
    "slideshow": {
     "slide_type": "slide"
    }
   },
   "source": [
    "# A complexidade na cidade\n",
    "\n",
    "* Jane Jacobs, último capítulo\n",
    "* Nossa vocação, lembram? Aliás, maldição\n",
    "* O que pode estar passando despercebido pela visão limitada a poucas dimensões?"
   ]
  },
  {
   "cell_type": "markdown",
   "metadata": {
    "slideshow": {
     "slide_type": "subslide"
    }
   },
   "source": [
    "## Taxonomia numérica\n",
    "\n",
    "* Levantar dimensões das edificações\n",
    "* Buscar similaridades por proximidades\n",
    "* Organizar em uma estrutura de árvore\n",
    "* (Senath and Sokal, 1963)"
   ]
  },
  {
   "cell_type": "markdown",
   "metadata": {
    "slideshow": {
     "slide_type": "subslide"
    }
   },
   "source": [
    "## ... como assim, levantar dimensões?\n",
    "\n",
    "* Tudo pode virar uma dimensão\n",
    "* Recuo lateral, recuo fronta, CA, TO, Gabarito, Cor do telhado, área, perímetro, distancia minkowski, etc ...\n",
    "\n",
    "> Agora é só medir o que está mais perto do que nesse domínio de dimensões"
   ]
  },
  {
   "cell_type": "markdown",
   "metadata": {
    "slideshow": {
     "slide_type": "subslide"
    }
   },
   "source": [
    "<img src='./imagens/diagrama_final.png' />"
   ]
  },
  {
   "cell_type": "markdown",
   "metadata": {
    "slideshow": {
     "slide_type": "slide"
    }
   },
   "source": [
    "## Tá bom, mas ...\n",
    "\n",
    "* Um agrupamento é só um agrupamento\n",
    "\n",
    "> Mas quando agrupamos algo por similaridades podemos tratar por suas similaridades e estudar a diversidade (Alguém da biologia, ou em uma mesa de bar com gente bacana, 2020)\n",
    "\n",
    "* Essa é a melhor estratégia para dar voz a grupos minoritários heterogemônicos (!= hegemônico)\n",
    "* E a cidade por um acaso é hegemonica?\n",
    "* Tampouco as pessoas, famílias, desejos, vontades, necessidades, cor de pele, motivação, conhecimento, desempenho, criminalidade (*), visão de mundo, etc ..."
   ]
  },
  {
   "cell_type": "markdown",
   "metadata": {
    "slideshow": {
     "slide_type": "subslide"
    }
   },
   "source": [
    "## ... por exemplo\n",
    "\n",
    "> Foi possível identificar que existe uma antinomia em relação a lotes que a testada é menor de 10 metros com lotes maiores.\n",
    "\n",
    "> Devido aos intrumentos que regulam a ocupação do solo, em especial o recuo lateral\n"
   ]
  },
  {
   "cell_type": "markdown",
   "metadata": {
    "slideshow": {
     "slide_type": "subslide"
    }
   },
   "source": [
    "<img src='./imagens/diferenca_de_ca_c.png' />"
   ]
  },
  {
   "cell_type": "markdown",
   "metadata": {
    "slideshow": {
     "slide_type": "subslide"
    }
   },
   "source": [
    "## Mas por que ainda continuamos \"recuados\"?\n",
    "\n",
    "<img src='./imagens/sombreamento.png' />"
   ]
  },
  {
   "cell_type": "markdown",
   "metadata": {
    "slideshow": {
     "slide_type": "slide"
    }
   },
   "source": [
    "# Recapitulando\n",
    "\n",
    "* Conceituamos dimensão\n",
    "* 1, 2 ou 3 dimensões podem não dizer muito\n",
    "* Podemos levantar inúmeras dimensões\n",
    "* Temos vocação para reconhecer padrões\n",
    "* Fazemos isso lidando com inúmeras dimensões\n",
    "\n",
    "> TRabalhando de forma adequada, a análise multidimensional pode ajudar. Não só para faculdade, para a vida"
   ]
  },
  {
   "cell_type": "markdown",
   "metadata": {
    "slideshow": {
     "slide_type": "slide"
    }
   },
   "source": [
    "# Vamos trabalhar?"
   ]
  },
  {
   "cell_type": "markdown",
   "metadata": {
    "slideshow": {
     "slide_type": "subslide"
    }
   },
   "source": [
    "## Materiais disponíveis no GitHub\n",
    "\n",
    "* O que é o GitHub\n",
    "* Por que dar o material? \n",
    "\n",
    "> Por que alguém te deu papinha, depois passou a escolher o que comer e hoje se ainda não sabe, deveria saber cozinhar, sem maltratar outros seres vivos #vegan\n",
    "\n",
    "* Todo o processo de elaboração está documentado\n",
    "* Esse repositório serve tb para tirar dúvidas"
   ]
  },
  {
   "cell_type": "markdown",
   "metadata": {
    "slideshow": {
     "slide_type": "subslide"
    }
   },
   "source": [
    "## Algumas palavras antes, por que usamos as palavras\n",
    "\n",
    "* por que usamos uma linguagem e não consitnuamos desenhando nas cavernas?\n",
    "* Quantas dimensões um desenho é capaz de expressar?\n",
    "* Como se dialoga com desenho?\n",
    "* Como se trabalha colaborativamente com desenho?\n",
    "* O desenho como ferramenta de opressão ... (melhor parar por aqui :-))\n",
    "* Vamos usar mais a linguagem? Que tal a de programação?\n",
    "> Tudo que vamos fazer aqui dá para fazer sem nenhuma programação, mas considere usar programação no seu dia-a-dia"
   ]
  },
  {
   "cell_type": "markdown",
   "metadata": {
    "slideshow": {
     "slide_type": "slide"
    }
   },
   "source": [
    "## Primeiro pelo fim\n",
    "\n",
    "* https://github.com/feromes/Aula-BAN8AU-2020-2\n",
    "* LiDAR 3D\n",
    "* [GeoSampa](http://geosampa.prefeitura.sp.gov.br/PaginasPublicas/_SBC.aspx)\n",
    "* O que é, acesso, formato de arquivo ...\n",
    "* MDT, MDS\n",
    "* Baixar alguns MDT para processar no CloudCompare"
   ]
  },
  {
   "cell_type": "markdown",
   "metadata": {
    "slideshow": {
     "slide_type": "subslide"
    }
   },
   "source": [
    "## CloudCompare\n",
    "\n",
    "* https://www.danielgm.net/cc/\n",
    "* Carregando os arquivos\n",
    "* Gerando o terreno\n"
   ]
  },
  {
   "cell_type": "markdown",
   "metadata": {
    "slideshow": {
     "slide_type": "fragment"
    }
   },
   "source": [
    "* Carrega o MDT\n",
    "* Seleciona o MDT em na árvore lateral\n",
    "* Edit --> Normals --> Compute\n",
    "* Edit --> Mesh --> Delaunay 2.5D\n",
    "* Edit --> Mesh --> Sample Points (Density = 1.0)\n",
    "* Tool --> Projection --> Rasterize \n",
    "    * Clique 'Update Grid'\n",
    "    * Clique 'Raster'\n",
    "    * Salvar o arquivo"
   ]
  },
  {
   "cell_type": "markdown",
   "metadata": {
    "slideshow": {
     "slide_type": "subslide"
    }
   },
   "source": [
    "## Abrindo arquivos gerados no CloudCompare no Qgis\n",
    "\n",
    "* https://www.qgis.org/pt_BR/site/\n",
    "* O que é raster?\n",
    "* Pixel\n",
    "* SRC (Sistema de referencias de coordenadas)\n",
    "* Banda\n",
    "* Falsa-cor"
   ]
  },
  {
   "cell_type": "markdown",
   "metadata": {
    "slideshow": {
     "slide_type": "fragment"
    }
   },
   "source": [
    "* Abrir o arquivo (arrastando)\n",
    "* Cade o arquivo? Ajustar o SRC para SIRGAS 2000 UTM (?)\n",
    "* Raster --> Analise --> Preencher sem dados ..."
   ]
  },
  {
   "cell_type": "markdown",
   "metadata": {
    "slideshow": {
     "slide_type": "subslide"
    }
   },
   "source": [
    "## Topografia da região\n",
    "\n",
    "* E o que dá para fazer com um raster? \n",
    "* Quais outras dimensões consigo extrair?\n",
    "* processo de extração visualização de rede de drenagem"
   ]
  },
  {
   "cell_type": "markdown",
   "metadata": {
    "slideshow": {
     "slide_type": "subslide"
    }
   },
   "source": [
    "## O terreno é causa e consequência ...\n",
    "\n",
    "* Processo complexo e longo que envolve Clima, geologia, interação com civilização, astronomia (?), etc ...\n",
    "* Pausa para pensar o que é uma diferença de altitude ...\n",
    "* Diferencial de potencial gravitacional\n"
   ]
  },
  {
   "cell_type": "markdown",
   "metadata": {
    "slideshow": {
     "slide_type": "slide"
    }
   },
   "source": [
    "## Vamos para a elaboração do material ..."
   ]
  },
  {
   "cell_type": "markdown",
   "metadata": {
    "slideshow": {
     "slide_type": "slide"
    }
   },
   "source": [
    "## de volta ao CloudCompare\n",
    "\n",
    "* Ligando o Octre\n",
    "* Clonando a núvem\n",
    "* Utilizando a classificação a nosso favor\n",
    "* Separando em 'camadas'"
   ]
  },
  {
   "cell_type": "markdown",
   "metadata": {
    "slideshow": {
     "slide_type": "subslide"
    }
   },
   "source": [
    "## Analisando um percurso, essa é pro Léo\n",
    "\n",
    "* Tools --> Segmentation --> Extract Sections / Unfold\n",
    "* desdobrando esse passeio\n",
    "* gerando vistas"
   ]
  },
  {
   "cell_type": "markdown",
   "metadata": {
    "slideshow": {
     "slide_type": "subslide"
    }
   },
   "source": [
    "## gerando vídeos\n",
    "\n",
    "* cria cada cena com:\n",
    "    * Ctrl-V (Display --> Save ViewPort as Object)\n",
    "* Repete isso para cada cena desejada\n",
    "* Seleciona todas as cenas\n",
    "* Plugins --> Animation"
   ]
  },
  {
   "cell_type": "markdown",
   "metadata": {
    "slideshow": {
     "slide_type": "subslide"
    }
   },
   "source": [
    "## exportanto 3D\n",
    "\n",
    "\n",
    "* Não é o propósito, nem o método adequando. É para quebrar um galho!\n",
    "* remover a vegetação primeiro\n",
    "* gerar um mesh\n",
    "* exportar o mesh"
   ]
  },
  {
   "cell_type": "markdown",
   "metadata": {
    "slideshow": {
     "slide_type": "slide"
    }
   },
   "source": [
    "# Lote fiscal\n",
    "\n",
    "* a novidade da disponibilização do Lote Fiscal\n",
    "* o cadastro do IPTU\n",
    "* ligando as duas coisas"
   ]
  },
  {
   "cell_type": "markdown",
   "metadata": {
    "slideshow": {
     "slide_type": "slide"
    }
   },
   "source": [
    "## Usando o GeoSampa pelo QGis\n",
    "\n",
    "* Serviços WMS e WFS\n",
    "* Ortofotos e rasters\n"
   ]
  },
  {
   "cell_type": "markdown",
   "metadata": {
    "slideshow": {
     "slide_type": "slide"
    }
   },
   "source": [
    "# Work In Progress\n",
    "\n",
    "* Geração de geometrias a partir da nuvem de pontos\n",
    "* conversão do modelo GIS para BIM\n",
    "* Fator de visão de céu\n",
    "\n",
    "> Análise MultiFSSL (Multidimensional, Fractal, eSpacializada, Semi-treLiçada) da forma urbana: proposta metodológica de abrodagem da complexidade na cidade de São Paulo.\n"
   ]
  },
  {
   "cell_type": "markdown",
   "metadata": {
    "slideshow": {
     "slide_type": "slide"
    }
   },
   "source": [
    "# Bonus\n",
    "\n",
    "* Quer dialogar com o cidadão?\n",
    "* Georeferenciamento do atendimento SP 156"
   ]
  },
  {
   "cell_type": "markdown",
   "metadata": {
    "slideshow": {
     "slide_type": "slide"
    }
   },
   "source": [
    "# Obrigado!\n",
    "\n",
    "> Não esqueçam de abrir 'Issues' no repositário\n",
    "\n",
    "@feromes"
   ]
  }
 ],
 "metadata": {
  "celltoolbar": "Slideshow",
  "kernelspec": {
   "display_name": "Python 3",
   "language": "python",
   "name": "python3"
  },
  "language_info": {
   "codemirror_mode": {
    "name": "ipython",
    "version": 3
   },
   "file_extension": ".py",
   "mimetype": "text/x-python",
   "name": "python",
   "nbconvert_exporter": "python",
   "pygments_lexer": "ipython3",
   "version": "3.7.6"
  }
 },
 "nbformat": 4,
 "nbformat_minor": 4
}
