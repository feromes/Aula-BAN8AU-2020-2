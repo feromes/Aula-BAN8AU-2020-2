{
 "cells": [
  {
   "cell_type": "markdown",
   "metadata": {
    "slideshow": {
     "slide_type": "slide"
    }
   },
   "source": [
    "# As dimensões da cidade: muito além do X, Y e Z\n",
    "\n",
    "Fernando Gomes, Agosto de 2020"
   ]
  },
  {
   "cell_type": "markdown",
   "metadata": {
    "slideshow": {
     "slide_type": "subslide"
    }
   },
   "source": [
    "## Agradecimentos\n",
    "\n",
    "* Professores são alienígenas\n",
    "* Mas não deixe se abduzir\n",
    "* Nem declare guerra\n",
    "* Tente se comunicar\n",
    "* Siga-o por alguns passos\n",
    "* Suba nos ombros deles"
   ]
  },
  {
   "cell_type": "markdown",
   "metadata": {
    "slideshow": {
     "slide_type": "subslide"
    }
   },
   "source": [
    "## Até outro dia eu estava aí\n",
    "\n",
    "* Formado em Arquitetura e Urbanismo (2019)\n",
    "* Segunda graduação\n",
    "* Melhor aluno\n",
    "* Hackatona GeoSampa\n",
    "* Convidado a trabalhar na prefeitura de São Paulo\n",
    "* Mestrando na Poli/USP"
   ]
  },
  {
   "cell_type": "markdown",
   "metadata": {
    "slideshow": {
     "slide_type": "slide"
    }
   },
   "source": [
    "## Motivação\n",
    "\n",
    "* Eu sou um alienígena \n",
    "\n",
    ">  ETIM lat. alienigĕna,ae 'de origem estranha, estrangeiro'\n",
    "\n",
    "* Preciso fazer contato, me comunicar\n",
    "* Ensinar para validar o que eu aprendi\n",
    "* Aprendi muito para preparar essa aula\n"
   ]
  },
  {
   "cell_type": "markdown",
   "metadata": {
    "slideshow": {
     "slide_type": "subslide"
    }
   },
   "source": [
    "## A evolução do dado aberto disponível\n",
    "\n",
    "* Professor Jackson (2014)\n",
    "* Altura dos edifícios da Vila Mariana\n",
    "* Orientação com Prof. Léo (2019)\n",
    "* Lotes e edificações de 2004, nada de LiDAR 3D"
   ]
  },
  {
   "cell_type": "markdown",
   "metadata": {
    "slideshow": {
     "slide_type": "subslide"
    }
   },
   "source": [
    "## Vem comigo ...\n",
    "\n",
    "* Levantamento de dados mudou (BIGDATA)\n",
    "* A importância da visão analítica de quem interage com a forma da cidade\n",
    "* Minha hipótese: Seremos menos empíricos e mais orientados a dados\n",
    "* Sem falar na \"Infodemia\", sejam curadores do prórpio consumo de informação\n",
    "\n",
    "> \"A Cauda Longa\", https://www.wired.com/2004/10/tail/"
   ]
  },
  {
   "cell_type": "markdown",
   "metadata": {
    "slideshow": {
     "slide_type": "slide"
    }
   },
   "source": [
    "# O que é 'uma' dimensão?\n",
    "\n",
    "* [0, 1, 2, 3, 4, ....]\n",
    "* [0.1, 0.2, 0.3, 0.4 ....]\n",
    "* PIB, CA, TO, IDB, Área, Gabarito, Valor por metro quadrado, taxa de desemprego, etc ...."
   ]
  },
  {
   "cell_type": "markdown",
   "metadata": {
    "slideshow": {
     "slide_type": "subslide"
    }
   },
   "source": [
    "## E quantas dimensões tem uma planta?"
   ]
  },
  {
   "cell_type": "markdown",
   "metadata": {
    "slideshow": {
     "slide_type": "fragment"
    }
   },
   "source": [
    "* X e Y (duas dimensões, 2D)\n",
    "* Com eles podemos obter distâncias entre elementos\n",
    "* E ainda é possível extrair algumas outras dimensões (1D), área, ângulos"
   ]
  },
  {
   "cell_type": "markdown",
   "metadata": {
    "slideshow": {
     "slide_type": "subslide"
    }
   },
   "source": [
    "## Mas um modelo 3D então resolve TUUUUUUUUUDO?"
   ]
  },
  {
   "cell_type": "markdown",
   "metadata": {
    "slideshow": {
     "slide_type": "fragment"
    }
   },
   "source": [
    "* Se fosse assim todos os problemas estariam resolvidos\n",
    "> Ele possibilita, assim como uma planta, ou um mapa, extrair mais dimensões, mas como nós humanos fazemos pensamos?\n",
    "\n",
    "> Com dimensões, podemos comparar, medir distâncias Euclidianas ou estatísticas, colocar em ordem fazer operações com algebra linear, representar graficamente (?), etc ..."
   ]
  },
  {
   "cell_type": "markdown",
   "metadata": {
    "slideshow": {
     "slide_type": "slide"
    }
   },
   "source": [
    "## Como nós pensamos então?\n",
    "\n",
    "> Temos vocação ou 'maldição' por reconhecer padrões, principalmente os de linguagem e que relacionam causa e consequência (Alexander, 1961)\n",
    "\n",
    "* 1, 2, 3, 4, 5, ... qual o próximo?\n",
    "* Mamão, melão, abacaxi, uva, abacate, ... qual a próxima palavra?"
   ]
  },
  {
   "cell_type": "markdown",
   "metadata": {
    "slideshow": {
     "slide_type": "subslide"
    }
   },
   "source": [
    "## Mas somos muito limitados com número ...\n",
    "\n",
    "* Helena está grávida e já tem 3 meninas, qual a chance de nascer mais uma menina?\n",
    "* Muitas linguagens primitivas tem palavras apenas para 1, 2 ou muitos\n",
    "\n",
    "> Uma estratégia é levantar o máximo possível de dimensões e então procurar padrões e similaridades\n"
   ]
  },
  {
   "cell_type": "markdown",
   "metadata": {
    "slideshow": {
     "slide_type": "subslide"
    }
   },
   "source": [
    "## Inteligência artificial\n",
    "\n",
    "* Jogo da imitação (Alan Turing)\n",
    "* Como funcionam os algorítimos\n",
    "* Buscamos padrões para economizar neurônios\n",
    "* Reconhecemos padrões\n",
    "* Padrão é diferente de repetição e mecanicismo\n",
    "\n",
    "> IMPORTANTE: Não use o coneceito de camada (layer) fazendo analogia a multidimensionalidade"
   ]
  },
  {
   "cell_type": "markdown",
   "metadata": {
    "slideshow": {
     "slide_type": "slide"
    }
   },
   "source": [
    "# A complexidade na cidade\n",
    "\n",
    "* Jane Jacobs, último capítulo\n",
    "* Nossa vocação, lembram? Aliás, maldição\n",
    "* O que pode estar passando despercebido pela visão limitada a poucas dimensões?"
   ]
  },
  {
   "cell_type": "markdown",
   "metadata": {
    "slideshow": {
     "slide_type": "subslide"
    }
   },
   "source": [
    "## Taxonomia numérica\n",
    "\n",
    "* Levantar dimensões das edificações\n",
    "* Buscar similaridades por proximidades\n",
    "* Organizar em uma estrutura de árvore\n",
    "* (Senath and Sokal, 1963)"
   ]
  },
  {
   "cell_type": "markdown",
   "metadata": {
    "slideshow": {
     "slide_type": "subslide"
    }
   },
   "source": [
    "## ... como assim, levantar dimensões?\n",
    "\n",
    "* Tudo pode virar uma dimensão\n",
    "* Recuo lateral, recuo fronta, CA, TO, Gabarito, Cor do telhado, área, perímetro, distancia minkowski, etc ...\n",
    "\n",
    "> Agora é só medir o que está mais perto do que nesse domínio de dimensões"
   ]
  },
  {
   "cell_type": "markdown",
   "metadata": {
    "slideshow": {
     "slide_type": "subslide"
    }
   },
   "source": [
    "<img src='./imagens/diagrama_final.png' />"
   ]
  },
  {
   "cell_type": "markdown",
   "metadata": {
    "slideshow": {
     "slide_type": "slide"
    }
   },
   "source": [
    "## Tá bom, mas ...\n",
    "\n",
    "* Um agrupamento é só um agrupamento\n",
    "\n",
    "> Mas quando agrupamos algo por similaridades podemos tratar por suas similaridades e estudar a diversidade (Alguém da biologia, ou em uma mesa de bar com gente bacana, 2020)\n",
    "\n",
    "* Essa é a melhor estratégia para dar voz a grupos minoritários heterogemônicos (!= hegemônico)\n",
    "* E a cidade por um acaso é hegemonica?\n",
    "* Muito menos as pessoas, famílias, desejos, vontades, necessidades, cor de pele, motivação, conhecimento, desempenho, criminalidade (*), visão de mundo, etc ..."
   ]
  },
  {
   "cell_type": "markdown",
   "metadata": {
    "slideshow": {
     "slide_type": "subslide"
    }
   },
   "source": [
    "## ... por exemplo\n",
    "\n",
    "> Foi possível identificar que existe uma antinomia em relação a lotes que a testada é menor de 10 metros com lotes maiores.\n",
    "\n",
    "> Devido aos intrumentos que regulam a ocupação do solo, em especial o recuo lateral\n"
   ]
  },
  {
   "cell_type": "markdown",
   "metadata": {
    "slideshow": {
     "slide_type": "subslide"
    }
   },
   "source": [
    "<img src='./imagens/diferenca_de_ca_c.png' />"
   ]
  },
  {
   "cell_type": "markdown",
   "metadata": {
    "slideshow": {
     "slide_type": "subslide"
    }
   },
   "source": [
    "## Mas por que ainda continuamos \"recuados\"?\n",
    "\n",
    "<img src='./imagens/sombreamento.png' />"
   ]
  },
  {
   "cell_type": "markdown",
   "metadata": {
    "slideshow": {
     "slide_type": "slide"
    }
   },
   "source": [
    "# Recapitulando\n",
    "\n",
    "* Conceituamos dimensão\n",
    "* 1, 2 ou 3 dimensões podem não dizer muito\n",
    "* Podemos levantar inúmeras dimensões\n",
    "* Temos vocação para reconhecer padrões\n",
    "* Fazemos isso lidando com inúmeras dimensões\n",
    "\n",
    "> TRabalhando de forma adequada, a análise multidimensional pode ajudar. Não só para faculdade, para a vida"
   ]
  },
  {
   "cell_type": "markdown",
   "metadata": {
    "slideshow": {
     "slide_type": "slide"
    }
   },
   "source": [
    "# Vamos trabalhar?"
   ]
  },
  {
   "cell_type": "markdown",
   "metadata": {
    "slideshow": {
     "slide_type": "subslide"
    }
   },
   "source": [
    "## Materiais disponíveis no GitHub\n",
    "\n",
    "* O que é o GitHub\n",
    "* Por que dar o material? \n",
    "\n",
    "> Por que alguém te deu papinha, depois passou a escolher o que comer e hoje se ainda não sabe, deveria saber cozinhar, sem maltratar outros seres vivos #vegan\n",
    "\n",
    "* Todo o processo de elaboração está documentado\n",
    "* Esse repositório serve tb para tirar dúvidas"
   ]
  },
  {
   "cell_type": "markdown",
   "metadata": {
    "slideshow": {
     "slide_type": "slide"
    }
   },
   "source": [
    "## Primeiro pelo fim\n",
    "\n",
    "* LiDAR 3D\n",
    "* O que é, acesso, formato de arquivo ...\n",
    "* MDT, MDS\n",
    "* Baixar alguns MDT para processar no CloudCompare"
   ]
  },
  {
   "cell_type": "markdown",
   "metadata": {
    "slideshow": {
     "slide_type": "subslide"
    }
   },
   "source": [
    "## CloudCompare\n",
    "\n",
    "* Carregando os arquivos\n",
    "* Gerando o terreno\n",
    "* Abrindo no Qgis\n"
   ]
  },
  {
   "cell_type": "markdown",
   "metadata": {
    "slideshow": {
     "slide_type": "subslide"
    }
   },
   "source": [
    "## Abrindo arquivos gerados no CloudCompare no Qgis\n",
    "\n",
    "* O que é raster?\n",
    "* Pixel\n",
    "* Banda\n",
    "* Falsa-cor"
   ]
  },
  {
   "cell_type": "markdown",
   "metadata": {
    "slideshow": {
     "slide_type": "subslide"
    }
   },
   "source": [
    "## Topografia da região\n",
    "\n",
    "* processo de extração visualização de rede de drenagem"
   ]
  },
  {
   "cell_type": "markdown",
   "metadata": {
    "slideshow": {
     "slide_type": "subslide"
    }
   },
   "source": [
    "## de volta ao CloudCompare\n",
    "\n",
    "* Ligando o Octre\n",
    "* Clonando a núvem\n",
    "* Utilizando a classificação a nosso favor\n",
    "* criando um paseeio\n",
    "* desdobrando esse passeio\n",
    "* gerando vistas"
   ]
  },
  {
   "cell_type": "markdown",
   "metadata": {
    "slideshow": {
     "slide_type": "slide"
    }
   },
   "source": [
    "## gerando vídeos\n",
    "\n",
    "* criando uma cena\n",
    "* exportando o vídeo"
   ]
  },
  {
   "cell_type": "markdown",
   "metadata": {
    "slideshow": {
     "slide_type": "subslide"
    }
   },
   "source": [
    "## exportanto 3D\n",
    "\n",
    "* gerando um mesh\n",
    "* exportando o mesh"
   ]
  },
  {
   "cell_type": "markdown",
   "metadata": {
    "slideshow": {
     "slide_type": "slide"
    }
   },
   "source": [
    "# Lote fiscal\n",
    "\n",
    "* a novidade da disponibilização do Lote Fiscal\n",
    "* o cadastro do IPTU\n",
    "* ligando as duas coisas"
   ]
  },
  {
   "cell_type": "code",
   "execution_count": null,
   "metadata": {},
   "outputs": [],
   "source": []
  },
  {
   "cell_type": "markdown",
   "metadata": {
    "slideshow": {
     "slide_type": "slide"
    }
   },
   "source": [
    "# Work In Progress\n",
    "\n",
    "* Geração de geometrias a partir da nuvem de pontos\n",
    "* conversão do modelo GIS para BIM\n",
    "* Fator de visão de céu\n",
    "\n",
    "> Análise MultiFSSL (Multidimensional, Fractal, eSpacializada, Semi-treLiçada) da forma urbana: proposta metodológica de abrodagem da complexidade na cidade de São Paulo.\n"
   ]
  },
  {
   "cell_type": "markdown",
   "metadata": {
    "slideshow": {
     "slide_type": "slide"
    }
   },
   "source": [
    "# Bonus\n",
    "\n",
    "* Quer dialogar com o cidadão?\n",
    "* Georeferenciamento do atendimento SP 156"
   ]
  },
  {
   "cell_type": "markdown",
   "metadata": {
    "slideshow": {
     "slide_type": "slide"
    }
   },
   "source": [
    "# Obrigado!\n",
    "\n",
    "@feromes"
   ]
  },
  {
   "cell_type": "code",
   "execution_count": null,
   "metadata": {},
   "outputs": [],
   "source": []
  }
 ],
 "metadata": {
  "celltoolbar": "Slideshow",
  "kernelspec": {
   "display_name": "Python 3",
   "language": "python",
   "name": "python3"
  },
  "language_info": {
   "codemirror_mode": {
    "name": "ipython",
    "version": 3
   },
   "file_extension": ".py",
   "mimetype": "text/x-python",
   "name": "python",
   "nbconvert_exporter": "python",
   "pygments_lexer": "ipython3",
   "version": "3.7.6"
  }
 },
 "nbformat": 4,
 "nbformat_minor": 4
}
